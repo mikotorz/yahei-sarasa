{
  "cells": [
    {
      "cell_type": "markdown",
      "metadata": {
        "colab_type": "text",
        "id": "view-in-github"
      },
      "source": [
        "<a href=\"https://colab.research.google.com/github/mikotorz/yahei-sarasa/blob/main/yahei_sarasa.ipynb\" target=\"_parent\"><img src=\"https://colab.research.google.com/assets/colab-badge.svg\" alt=\"Open In Colab\"/></a>"
      ]
    },
    {
      "cell_type": "code",
      "execution_count": null,
      "metadata": {
        "id": "IlNYO1DmP872"
      },
      "outputs": [],
      "source": [
        "!git clone https://github.com/mikotorz/yahei-sarasa.git\n",
        "%cd yahei-sarasa/blex"
      ]
    },
    {
      "cell_type": "code",
      "execution_count": null,
      "metadata": {
        "id": "A5Sk0x2ARiUx"
      },
      "outputs": [],
      "source": [
        "!sudo apt-get update\n",
        "!sudo apt-get install -y fontforge python3-fontforge"
      ]
    },
    {
      "cell_type": "code",
      "execution_count": null,
      "metadata": {},
      "outputs": [],
      "source": [
        "!mkdir temp\n",
        "%cd temp\n",
        "!wget https://github.com/lxgw/LxgwNeoXiZhi-Screen/releases/download/25.01.24/LXGWNeoXiHeiScreenFull.ttf\n",
        "!wget https://github.com/lxgw/LxgwNeoXiZhi-Screen/releases/download/25.01.24/LXGWNeoZhiSongScreenFull.ttf\n",
        "!wget https://github.com/be5invis/Sarasa-Gothic/releases/download/v1.0.27/SarasaUiSC-TTF-Unhinted-1.0.27.7z\n",
        "!7z x SarasaUiSC-TTF-Unhinted-1.0.27.7z"
      ]
    },
    {
      "cell_type": "code",
      "execution_count": null,
      "metadata": {
        "id": "GDkRaHAZSDyH"
      },
      "outputs": [],
      "source": [
        "!python auto_all.py"
      ]
    }
  ],
  "metadata": {
    "colab": {
      "authorship_tag": "ABX9TyNYsLhvgxm8uKs7kKPtK7mQ",
      "include_colab_link": true,
      "mount_file_id": "1ZZsJRG6ZFJtzPGN9kzC5Lf3YdeffxTD5",
      "provenance": []
    },
    "kernelspec": {
      "display_name": "Python 3",
      "name": "python3"
    },
    "language_info": {
      "name": "python"
    }
  },
  "nbformat": 4,
  "nbformat_minor": 0
}
