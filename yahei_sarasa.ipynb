{
  "nbformat": 4,
  "nbformat_minor": 0,
  "metadata": {
    "colab": {
      "provenance": [],
      "mount_file_id": "1ZZsJRG6ZFJtzPGN9kzC5Lf3YdeffxTD5",
      "authorship_tag": "ABX9TyNYsLhvgxm8uKs7kKPtK7mQ",
      "include_colab_link": true
    },
    "kernelspec": {
      "name": "python3",
      "display_name": "Python 3"
    },
    "language_info": {
      "name": "python"
    }
  },
  "cells": [
    {
      "cell_type": "markdown",
      "metadata": {
        "id": "view-in-github",
        "colab_type": "text"
      },
      "source": [
        "<a href=\"https://colab.research.google.com/github/mikotorz/yahei-sarasa/blob/main/yahei_sarasa.ipynb\" target=\"_parent\"><img src=\"https://colab.research.google.com/assets/colab-badge.svg\" alt=\"Open In Colab\"/></a>"
      ]
    },
    {
      "cell_type": "code",
      "execution_count": null,
      "metadata": {
        "id": "IlNYO1DmP872"
      },
      "outputs": [],
      "source": [
        "!git clone https://github.com/mikotorz/yahei-sarasa.git\n",
        "%cd yahei-sarasa"
      ]
    },
    {
      "cell_type": "code",
      "source": [
        "!sudo apt-get update\n",
        "!sudo apt-get install -y fontforge python3-fontforge"
      ],
      "metadata": {
        "id": "A5Sk0x2ARiUx"
      },
      "execution_count": null,
      "outputs": []
    },
    {
      "cell_type": "code",
      "source": [
        "!pip3 install wget\n",
        "!pip3 install py7zr"
      ],
      "metadata": {
        "id": "8OmjmLtoRy__"
      },
      "execution_count": null,
      "outputs": []
    },
    {
      "cell_type": "code",
      "source": [
        "!python auto_all.py"
      ],
      "metadata": {
        "id": "GDkRaHAZSDyH"
      },
      "execution_count": null,
      "outputs": []
    },
    {
      "cell_type": "code",
      "source": [
        "!cp -r result /content/drive/MyDrive/Colab\\ Results/"
      ],
      "metadata": {
        "id": "Ff2Jet4NTD8V"
      },
      "execution_count": null,
      "outputs": []
    }
  ]
}